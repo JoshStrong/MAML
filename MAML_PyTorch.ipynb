{
  "nbformat": 4,
  "nbformat_minor": 0,
  "metadata": {
    "colab": {
      "name": "MAML_PyTorch.ipynb",
      "provenance": [],
      "toc_visible": true,
      "authorship_tag": "ABX9TyMwW8PtAQ80XgRY3xnCXQ3i",
      "include_colab_link": true
    },
    "kernelspec": {
      "name": "python3",
      "display_name": "Python 3"
    },
    "accelerator": "GPU",
    "widgets": {
      "application/vnd.jupyter.widget-state+json": {
        "9b34eeb2492b4c71a5490645c0c2f1f3": {
          "model_module": "@jupyter-widgets/controls",
          "model_name": "HBoxModel",
          "state": {
            "_view_name": "HBoxView",
            "_dom_classes": [],
            "_model_name": "HBoxModel",
            "_view_module": "@jupyter-widgets/controls",
            "_model_module_version": "1.5.0",
            "_view_count": null,
            "_view_module_version": "1.5.0",
            "box_style": "",
            "layout": "IPY_MODEL_ac58d780db63433f9166389a815fcaf7",
            "_model_module": "@jupyter-widgets/controls",
            "children": [
              "IPY_MODEL_894ccbb1c039459e8611d0bf5f475285",
              "IPY_MODEL_6b4f427d88bb4a47a3af1bdb2fda2a06"
            ]
          }
        },
        "ac58d780db63433f9166389a815fcaf7": {
          "model_module": "@jupyter-widgets/base",
          "model_name": "LayoutModel",
          "state": {
            "_view_name": "LayoutView",
            "grid_template_rows": null,
            "right": null,
            "justify_content": null,
            "_view_module": "@jupyter-widgets/base",
            "overflow": null,
            "_model_module_version": "1.2.0",
            "_view_count": null,
            "flex_flow": null,
            "width": null,
            "min_width": null,
            "border": null,
            "align_items": null,
            "bottom": null,
            "_model_module": "@jupyter-widgets/base",
            "top": null,
            "grid_column": null,
            "overflow_y": null,
            "overflow_x": null,
            "grid_auto_flow": null,
            "grid_area": null,
            "grid_template_columns": null,
            "flex": null,
            "_model_name": "LayoutModel",
            "justify_items": null,
            "grid_row": null,
            "max_height": null,
            "align_content": null,
            "visibility": null,
            "align_self": null,
            "height": null,
            "min_height": null,
            "padding": null,
            "grid_auto_rows": null,
            "grid_gap": null,
            "max_width": null,
            "order": null,
            "_view_module_version": "1.2.0",
            "grid_template_areas": null,
            "object_position": null,
            "object_fit": null,
            "grid_auto_columns": null,
            "margin": null,
            "display": null,
            "left": null
          }
        },
        "894ccbb1c039459e8611d0bf5f475285": {
          "model_module": "@jupyter-widgets/controls",
          "model_name": "FloatProgressModel",
          "state": {
            "_view_name": "ProgressView",
            "style": "IPY_MODEL_eea1b93687d14397b4bf9afd5ac71ab0",
            "_dom_classes": [],
            "description": "100%",
            "_model_name": "FloatProgressModel",
            "bar_style": "success",
            "max": 2,
            "_view_module": "@jupyter-widgets/controls",
            "_model_module_version": "1.5.0",
            "value": 2,
            "_view_count": null,
            "_view_module_version": "1.5.0",
            "orientation": "horizontal",
            "min": 0,
            "description_tooltip": null,
            "_model_module": "@jupyter-widgets/controls",
            "layout": "IPY_MODEL_348a896afc6647d581663c76573da88f"
          }
        },
        "6b4f427d88bb4a47a3af1bdb2fda2a06": {
          "model_module": "@jupyter-widgets/controls",
          "model_name": "HTMLModel",
          "state": {
            "_view_name": "HTMLView",
            "style": "IPY_MODEL_733f17da159e496aaf4f445aa66f25b8",
            "_dom_classes": [],
            "description": "",
            "_model_name": "HTMLModel",
            "placeholder": "​",
            "_view_module": "@jupyter-widgets/controls",
            "_model_module_version": "1.5.0",
            "value": " 2/2 [00:00&lt;00:00,  4.01it/s]",
            "_view_count": null,
            "_view_module_version": "1.5.0",
            "description_tooltip": null,
            "_model_module": "@jupyter-widgets/controls",
            "layout": "IPY_MODEL_8058499e261b4c72b864764ac0fdd09f"
          }
        },
        "eea1b93687d14397b4bf9afd5ac71ab0": {
          "model_module": "@jupyter-widgets/controls",
          "model_name": "ProgressStyleModel",
          "state": {
            "_view_name": "StyleView",
            "_model_name": "ProgressStyleModel",
            "description_width": "initial",
            "_view_module": "@jupyter-widgets/base",
            "_model_module_version": "1.5.0",
            "_view_count": null,
            "_view_module_version": "1.2.0",
            "bar_color": null,
            "_model_module": "@jupyter-widgets/controls"
          }
        },
        "348a896afc6647d581663c76573da88f": {
          "model_module": "@jupyter-widgets/base",
          "model_name": "LayoutModel",
          "state": {
            "_view_name": "LayoutView",
            "grid_template_rows": null,
            "right": null,
            "justify_content": null,
            "_view_module": "@jupyter-widgets/base",
            "overflow": null,
            "_model_module_version": "1.2.0",
            "_view_count": null,
            "flex_flow": null,
            "width": null,
            "min_width": null,
            "border": null,
            "align_items": null,
            "bottom": null,
            "_model_module": "@jupyter-widgets/base",
            "top": null,
            "grid_column": null,
            "overflow_y": null,
            "overflow_x": null,
            "grid_auto_flow": null,
            "grid_area": null,
            "grid_template_columns": null,
            "flex": null,
            "_model_name": "LayoutModel",
            "justify_items": null,
            "grid_row": null,
            "max_height": null,
            "align_content": null,
            "visibility": null,
            "align_self": null,
            "height": null,
            "min_height": null,
            "padding": null,
            "grid_auto_rows": null,
            "grid_gap": null,
            "max_width": null,
            "order": null,
            "_view_module_version": "1.2.0",
            "grid_template_areas": null,
            "object_position": null,
            "object_fit": null,
            "grid_auto_columns": null,
            "margin": null,
            "display": null,
            "left": null
          }
        },
        "733f17da159e496aaf4f445aa66f25b8": {
          "model_module": "@jupyter-widgets/controls",
          "model_name": "DescriptionStyleModel",
          "state": {
            "_view_name": "StyleView",
            "_model_name": "DescriptionStyleModel",
            "description_width": "",
            "_view_module": "@jupyter-widgets/base",
            "_model_module_version": "1.5.0",
            "_view_count": null,
            "_view_module_version": "1.2.0",
            "_model_module": "@jupyter-widgets/controls"
          }
        },
        "8058499e261b4c72b864764ac0fdd09f": {
          "model_module": "@jupyter-widgets/base",
          "model_name": "LayoutModel",
          "state": {
            "_view_name": "LayoutView",
            "grid_template_rows": null,
            "right": null,
            "justify_content": null,
            "_view_module": "@jupyter-widgets/base",
            "overflow": null,
            "_model_module_version": "1.2.0",
            "_view_count": null,
            "flex_flow": null,
            "width": null,
            "min_width": null,
            "border": null,
            "align_items": null,
            "bottom": null,
            "_model_module": "@jupyter-widgets/base",
            "top": null,
            "grid_column": null,
            "overflow_y": null,
            "overflow_x": null,
            "grid_auto_flow": null,
            "grid_area": null,
            "grid_template_columns": null,
            "flex": null,
            "_model_name": "LayoutModel",
            "justify_items": null,
            "grid_row": null,
            "max_height": null,
            "align_content": null,
            "visibility": null,
            "align_self": null,
            "height": null,
            "min_height": null,
            "padding": null,
            "grid_auto_rows": null,
            "grid_gap": null,
            "max_width": null,
            "order": null,
            "_view_module_version": "1.2.0",
            "grid_template_areas": null,
            "object_position": null,
            "object_fit": null,
            "grid_auto_columns": null,
            "margin": null,
            "display": null,
            "left": null
          }
        }
      }
    }
  },
  "cells": [
    {
      "cell_type": "markdown",
      "metadata": {
        "id": "view-in-github",
        "colab_type": "text"
      },
      "source": [
        "<a href=\"https://colab.research.google.com/github/JoshStrong/MAML/blob/master/MAML_PyTorch.ipynb\" target=\"_parent\"><img src=\"https://colab.research.google.com/assets/colab-badge.svg\" alt=\"Open In Colab\"/></a>"
      ]
    },
    {
      "cell_type": "markdown",
      "metadata": {
        "id": "GhXB90vDKlXl",
        "colab_type": "text"
      },
      "source": [
        "##Please open in Colab, if viewing from GitHub."
      ]
    },
    {
      "cell_type": "code",
      "metadata": {
        "id": "MUMf-_F-ue3_",
        "colab_type": "code",
        "colab": {}
      },
      "source": [
        "!pip install learn2learn"
      ],
      "execution_count": null,
      "outputs": []
    },
    {
      "cell_type": "code",
      "metadata": {
        "id": "JZSStCayuOmz",
        "colab_type": "code",
        "colab": {}
      },
      "source": [
        "# import dependencies\n",
        "import torch\n",
        "import torch.nn as nn\n",
        "import torch.nn.functional as F\n",
        "\n",
        "from tqdm.notebook import tqdm\n",
        "\n",
        "import numpy as np\n",
        "import matplotlib.pyplot as plt\n",
        "from scipy.stats import norm\n",
        "import random\n",
        "\n",
        "import copy\n",
        "\n",
        "import learn2learn as l2l"
      ],
      "execution_count": null,
      "outputs": []
    },
    {
      "cell_type": "code",
      "metadata": {
        "id": "dcFcXQTrjYG7",
        "colab_type": "code",
        "colab": {
          "base_uri": "https://localhost:8080/",
          "height": 35
        },
        "outputId": "42b7eed4-a530-476e-bf78-65bc223b3825"
      },
      "source": [
        "torch.cuda.get_device_name(0)"
      ],
      "execution_count": null,
      "outputs": [
        {
          "output_type": "execute_result",
          "data": {
            "application/vnd.google.colaboratory.intrinsic+json": {
              "type": "string"
            },
            "text/plain": [
              "'Tesla T4'"
            ]
          },
          "metadata": {
            "tags": []
          },
          "execution_count": 3
        }
      ]
    },
    {
      "cell_type": "code",
      "metadata": {
        "id": "3AKyDACOwgRJ",
        "colab_type": "code",
        "colab": {}
      },
      "source": [
        "class Model(nn.Module):\n",
        "  def __init__(self):\n",
        "    super(Model, self).__init__()\n",
        "    self.fc1 = nn.Linear(1, 40)\n",
        "    self.fc2 = nn.Linear(40, 40)\n",
        "    self.fc3 = nn.Linear(40, 1)\n",
        "\n",
        "  def forward(self, x):\n",
        "    x = self.fc1(x)\n",
        "    x = F.relu(x)\n",
        "    x = self.fc2(x)\n",
        "    x = F.relu(x)\n",
        "    x = self.fc3(x)\n",
        "    return x"
      ],
      "execution_count": null,
      "outputs": []
    },
    {
      "cell_type": "code",
      "metadata": {
        "id": "JQ_MHR1Yzfwa",
        "colab_type": "code",
        "colab": {}
      },
      "source": [
        "class Sine_Task_Distribution():\n",
        "  def __init__(self, power_min, power_max, amplitude_min, amplitude_max, phase_min, phase_max, xmin, xmax):\n",
        "    self.power_min = power_min\n",
        "    self.power_max = power_max\n",
        "    self.amplitude_min = amplitude_min\n",
        "    self.amplitude_max = amplitude_max\n",
        "    self.phase_min = phase_min\n",
        "    self.phase_max = phase_max\n",
        "    self.xmin = xmin\n",
        "    self.xmax = xmax\n",
        "\n",
        "  def sample_task(self):\n",
        "    amplitude = np.random.uniform(self.amplitude_min, self.amplitude_max)\n",
        "    power = np.random.randint(self.power_min,self.power_max+1)\n",
        "    phase = np.random.uniform(self.phase_min, self.phase_max)\n",
        "\n",
        "    return Sine_Task(power, amplitude, phase, self.xmin, self.xmax)"
      ],
      "execution_count": null,
      "outputs": []
    },
    {
      "cell_type": "code",
      "metadata": {
        "id": "5WZcCQgkzUFd",
        "colab_type": "code",
        "colab": {}
      },
      "source": [
        "class Sine_Task():\n",
        "  def __init__(self, power, amplitude, phase, xmin, xmax):\n",
        "    self.power = power\n",
        "    self.phase = phase\n",
        "    self.amplitude = amplitude\n",
        "    self.xmin = xmin\n",
        "    self.xmax = xmax\n",
        "\n",
        "  def oracle(self, x):\n",
        "    \"\"\"\n",
        "    Oracle: returns output of sin function with given amplitude, phase and input x\n",
        "\n",
        "    PARAMETERS:\n",
        "    1. x - input\n",
        "    \"\"\"\n",
        "    return self.amplitude * (x **self.power) * np.sin(self.phase + x)\n",
        "\n",
        "  def sample_data(self, size=1):\n",
        "    \"\"\"\n",
        "      sample_data: sample input/output of given instance of Sine_Task with set variables\n",
        "\n",
        "      PARAMETERS:\n",
        "      1. size - amount of sampled data\n",
        "    \"\"\"\n",
        "    x = torch.rand(size)*(self.xmax-self.xmin) - self.xmax\n",
        "    y = self.oracle(x)\n",
        "    x = x.unsqueeze(1).cuda()\n",
        "    y = y.unsqueeze(1).cuda()\n",
        "\n",
        "    return x, y"
      ],
      "execution_count": null,
      "outputs": []
    },
    {
      "cell_type": "code",
      "metadata": {
        "id": "Cb-76o2oJpg_",
        "colab_type": "code",
        "colab": {}
      },
      "source": [
        "dist = Sine_Task_Distribution(0,1,0.1,5,0,np.pi,-5,5)"
      ],
      "execution_count": null,
      "outputs": []
    },
    {
      "cell_type": "markdown",
      "metadata": {
        "id": "lUTKtUvJjkdK",
        "colab_type": "text"
      },
      "source": [
        "The (shortened) MAML algorithm:\n",
        "\n",
        "\n",
        "\n",
        "\n",
        "*   Sample task (or a batch of tasks) $\\mathcal{T}_i$.\n",
        "*   Sample $D_i^{tr}, D_i^{test}$ from sampled task $\\mathcal{T}_i$.\n",
        "*   Inner Loop: Optimise meta-parameters $\\theta$ on task $\\mathcal{T}_i$ to produce task-specific optimal parameters $\\phi_i$: $\\phi_i \\leftarrow \\theta - \\alpha \\nabla_\\theta \\mathcal{L}(\\theta, D_i^{tr})$\n",
        "*   Outer Loop: Update $\\theta$ using stochastic gradient descent:\n",
        "$\\theta \\leftarrow \\theta - \\beta \\nabla_\\theta \\mathcal{L}(\\phi, D_i^{test})$\n",
        "\n",
        "where $\\mathcal{L}(\\cdot, \\cdot)$ is the chosen loss function of the network (MSE for regression & binary cross entropy for classification).\n",
        "\n",
        "\n",
        "\n",
        "Let $U(\\theta, D^{tr}) := \\phi = \\theta - \\alpha \\nabla_\\theta \\mathcal{L}(\\theta, D^{tr})$ denote the update rule used for optimising $\\phi$.\n",
        "\n",
        "\n",
        "\n",
        "The meta-optimisation objective is given as \n",
        "\\begin{align*}\n",
        "    \\underset{\\theta}{\\min}\\,\\,\\mathcal{L}(\\phi, D^{test}) = \\underset{\\theta}{\\min}\\,\\,\\mathcal{L}(U(\\theta, D^{tr}), D^{test}).\n",
        "\\end{align*}\n",
        "We require $\\frac{d}{d\\theta}\\mathcal{L}(\\phi, D^{test})$\n",
        "\\begin{align*}\n",
        "    \\frac{d}{d\\theta}\\mathcal{L}(\\phi, D^{test}) &= \\frac{d}{d\\theta}\\mathcal{L}(U(\\theta, D^{tr}), D^{test})\\\\\n",
        "    &= \\underbrace{\\nabla_{\\Theta}\\mathcal{L}(\\Theta, D^{test})|_{\\Theta=U(\\theta, D^{tr})}}_{(1)} \\underbrace{\\dfrac{d}{d \\theta} U(\\theta, D^{tr})}_{(2)} && (\\text{via chain rule})\n",
        "\\end{align*}\n",
        "\n",
        "(1) is a row vector which can be computed through a single backwards pass of the network, when setting parameters to $\\Theta$ then differentiating loss $\\mathcal{L}$ with respects to $\\Theta$. The hessian matrix (2) is obtained through differentiating the update rule $U(\\theta, D^{tr}) = \\theta - \\alpha \\nabla_\\theta \\mathcal{L}(\\theta, D^{tr})$ with respects to $\\theta$. Fortunately for us, autodiff libraries such as Tensorflow and PyTorch can compute vector hessian products efficiently."
      ]
    },
    {
      "cell_type": "code",
      "metadata": {
        "id": "ufzWFkLQxJEX",
        "colab_type": "code",
        "colab": {}
      },
      "source": [
        "def main():\n",
        "  device = torch.device('cuda')\n",
        "  fast_lr = 0.02\n",
        "  meta_lr = 0.02\n",
        "  num_iterations = 6000\n",
        "  meta_batch_size = 1000\n",
        "  K = 10\n",
        "  adaptation_steps = 1\n",
        "\n",
        "  model = Model()\n",
        "  model.to(device)\n",
        "  maml = l2l.algorithms.MAML(model, lr=fast_lr, first_order=False)\n",
        "  opt = torch.optim.Adam(maml.parameters(), meta_lr)\n",
        "  loss = nn.MSELoss(reduction='mean')\n",
        "  meta_valid_error_arr = []\n",
        "\n",
        "  # 3. Meta-learning\n",
        "  # Outer-loop\n",
        "  for iteration in tqdm(range(num_iterations+1)):\n",
        "    opt.zero_grad()\n",
        "    meta_valid_error = 0.0\n",
        "    for task in range(meta_batch_size):\n",
        "      # Make copy of maml class\n",
        "      learner = maml.clone()\n",
        "\n",
        "      # Sample a batch of training data\n",
        "      task = dist.sample_task()\n",
        "      X_train, y_train = task.sample_data(K)\n",
        "\n",
        "      # Inner-loop\n",
        "      for step in range(adaptation_steps):\n",
        "        train_error = loss(learner(X_train), y_train)\n",
        "        learner.adapt(train_error)\n",
        "\n",
        "      # Sample new data validation data, calculate error\n",
        "      X_valid, y_valid = task.sample_data(K)\n",
        "      valid_error = loss(learner(X_valid),y_valid)\n",
        "\n",
        "      # Backpropagate loss wrt meta-parameters to get parameter gradients\n",
        "      # These accumulate by function, so no need to continuously add\n",
        "      # We opt.zero_grad at each iteration instead\n",
        "      valid_error.backward()\n",
        "\n",
        "      # add evaluation_error\n",
        "      meta_valid_error += valid_error.item()\n",
        "\n",
        "\n",
        "    if iteration % 50 == 0:\n",
        "      print('\\n')\n",
        "      print('Iteration', iteration)\n",
        "      print('Average Meta Valid Error', meta_valid_error / meta_batch_size)\n",
        "      meta_valid_error_arr.append(meta_valid_error / meta_batch_size)\n",
        "\n",
        "    # Average the accumulated gradients and optimize\n",
        "    for p in maml.parameters():\n",
        "      p.grad.data.mul_(1.0 / meta_batch_size)\n",
        "    opt.step() # optimise meta-parameters\n",
        "\n",
        "  return maml"
      ],
      "execution_count": null,
      "outputs": []
    },
    {
      "cell_type": "code",
      "metadata": {
        "id": "09LkuZLDup4B",
        "colab_type": "code",
        "colab": {}
      },
      "source": [
        "## WARNING: Takes a long time to train\n",
        "maml_model = main()"
      ],
      "execution_count": null,
      "outputs": []
    },
    {
      "cell_type": "code",
      "metadata": {
        "id": "EKl6DSlyGx_u",
        "colab_type": "code",
        "colab": {}
      },
      "source": [
        "# Save the meta-parameters to a file\n",
        "# Need to clip 'module.' from parameter keys in order to reload the model first\n",
        "maml_dict = maml_model.state_dict()\n",
        "prefix = 'module.'\n",
        "n_clip = len(prefix)\n",
        "adapted_dict = {k[n_clip:]: v for k, v in maml_dict.items()\n",
        "                if k.startswith(prefix)}\n",
        "\n",
        "PATH = \"/content/model\"\n",
        "torch.save(adapted_dict, PATH)"
      ],
      "execution_count": null,
      "outputs": []
    },
    {
      "cell_type": "code",
      "metadata": {
        "id": "2SMm9gSARvme",
        "colab_type": "code",
        "colab": {
          "base_uri": "https://localhost:8080/",
          "height": 101
        },
        "outputId": "da6e9dd7-7614-40a0-f1ae-75b29f1e2c8b"
      },
      "source": [
        "# Load MAML parameters\n",
        "PATH = \"/content/model\"\n",
        "saved_model = Model()\n",
        "saved_model.load_state_dict(torch.load(PATH), strict=False)\n",
        "saved_model.to('cuda')"
      ],
      "execution_count": null,
      "outputs": [
        {
          "output_type": "execute_result",
          "data": {
            "text/plain": [
              "Model(\n",
              "  (fc1): Linear(in_features=1, out_features=40, bias=True)\n",
              "  (fc2): Linear(in_features=40, out_features=40, bias=True)\n",
              "  (fc3): Linear(in_features=40, out_features=1, bias=True)\n",
              ")"
            ]
          },
          "metadata": {
            "tags": []
          },
          "execution_count": 21
        }
      ]
    },
    {
      "cell_type": "code",
      "metadata": {
        "id": "3Kn8-1OpdzFm",
        "colab_type": "code",
        "colab": {
          "base_uri": "https://localhost:8080/",
          "height": 50
        },
        "outputId": "70797305-db08-4d06-bbcb-c84ed3f0fa48"
      },
      "source": [
        "# Generate tasks with powers 0 and 1\n",
        "seed=1\n",
        "np.random.seed(seed)\n",
        "\n",
        "testing_task1=dist.sample_task()\n",
        "testing_task2=dist.sample_task()\n",
        "print(\"testing_task1 has power\",testing_task1.power)\n",
        "print(\"testing_task2 has power\",testing_task2.power)\n",
        "\n",
        "# Make copies of the MAML model\n",
        "fine_tuned_model1 = copy.deepcopy(saved_model)\n",
        "fine_tuned_model2 = copy.deepcopy(saved_model)"
      ],
      "execution_count": null,
      "outputs": [
        {
          "output_type": "stream",
          "text": [
            "testing_task1 has power 0\n",
            "testing_task2 has power 1\n"
          ],
          "name": "stdout"
        }
      ]
    },
    {
      "cell_type": "code",
      "metadata": {
        "id": "GFD13-dReAfZ",
        "colab_type": "code",
        "colab": {
          "base_uri": "https://localhost:8080/",
          "height": 298
        },
        "outputId": "aa1abca9-3c28-4e9b-82f7-c7fe8606a5b2"
      },
      "source": [
        "print(\"Sampled task 1 has amplitude:\",testing_task1.amplitude,\"and phase:\", testing_task1.phase)\n",
        "print(\"Sampled task 2 has amplitude:\",testing_task2.amplitude,\"and phase:\", testing_task2.phase)\n",
        "\n",
        "x = torch.linspace(-5,5).cuda()\n",
        "output = [saved_model(item.unsqueeze(-1)).cpu().detach().numpy() for item in x]\n",
        "\n",
        "plt.plot(x.cpu(),output,label=\"Meta-model\")\n",
        "plt.plot(x.cpu(),testing_task1.oracle(x.cpu()),label=\"Task sampled with power 0\")\n",
        "plt.plot(x.cpu(),testing_task2.oracle(x.cpu()),label=\"Task sampled with power 1\")\n",
        "\n",
        "plt.legend(loc=\"lower left\")\n",
        "plt.show()"
      ],
      "execution_count": null,
      "outputs": [
        {
          "output_type": "stream",
          "text": [
            "Sampled task 1 has amplitude: 2.143407823042613 and phase: 2.9297153491494274\n",
            "Sampled task 2 has amplitude: 0.727809794853848 and phase: 0.46104722846206814\n"
          ],
          "name": "stdout"
        },
        {
          "output_type": "display_data",
          "data": {
            "image/png": "[encoded data removed]",
            "text/plain": [
              "<Figure size 432x288 with 1 Axes>"
            ]
          },
          "metadata": {
            "tags": [],
            "needs_background": "light"
          }
        }
      ]
    },
    {
      "cell_type": "code",
      "metadata": {
        "id": "xo0PZoy1XOXl",
        "colab_type": "code",
        "colab": {}
      },
      "source": [
        "## Fine-tuning task 1\n",
        "\n",
        "x_train,y_train = testing_task1.sample_data(10)\n",
        "\n",
        "fine_tuning_steps=10\n",
        "criterion = nn.MSELoss(reduction='mean')\n",
        "optimizer = torch.optim.Adam(fine_tuned_model1.parameters(),lr=0.02)\n",
        "\n",
        "for step in range(fine_tuning_steps):\n",
        "  y_pred = fine_tuned_model1(x_train)\n",
        "\n",
        "  loss = criterion(y_pred,y_train)\n",
        "\n",
        "  optimizer.zero_grad()\n",
        "  loss.backward()\n",
        "  optimizer.step()\n",
        "\n",
        "  if step == 1:\n",
        "    fine_tuned_once_model1 = copy.deepcopy(saved_model)\n",
        "  if step == 5:\n",
        "    fine_tuned_five_model1 = copy.deepcopy(saved_model)"
      ],
      "execution_count": null,
      "outputs": []
    },
    {
      "cell_type": "code",
      "metadata": {
        "id": "MTJZfGlRVoIn",
        "colab_type": "code",
        "colab": {}
      },
      "source": [
        "output = [saved_model(item.unsqueeze(-1)).cpu().detach().numpy() for item in x]\n",
        "output3 = [fine_tuned_model1(item.unsqueeze(-1)).cpu().detach().numpy() for item in x]\n",
        "\n",
        "plt.plot(x.cpu(),output,label=\"Meta-model\")\n",
        "plt.plot(x.cpu(),output3,label=\"Fine-tuned model\")\n",
        "plt.plot(x.cpu(),testing_task1.oracle(x.cpu()),label=\"Oracle\")\n",
        "\n",
        "plt.plot(x_train.cpu(),y_train.cpu(),'ro',label=\"Training Points\")\n",
        "\n",
        "plt.legend(loc=\"upper right\")\n",
        "plt.show()"
      ],
      "execution_count": null,
      "outputs": []
    },
    {
      "cell_type": "code",
      "metadata": {
        "id": "asZG1w4ZOYcK",
        "colab_type": "code",
        "colab": {}
      },
      "source": [
        "## Fine-tuning task 2\n",
        "\n",
        "x_train,y_train = testing_task2.sample_data(10)\n",
        "\n",
        "fine_tuning_steps=10\n",
        "criterion = nn.MSELoss(reduction='mean')\n",
        "optimizer = torch.optim.Adam(fine_tuned_model2.parameters(),lr=0.02)\n",
        "\n",
        "for step in range(fine_tuning_steps):\n",
        "  y_pred = fine_tuned_model2(x_train)\n",
        "\n",
        "  loss = criterion(y_pred,y_train)\n",
        "\n",
        "  optimizer.zero_grad()\n",
        "  loss.backward()\n",
        "  optimizer.step()\n",
        "\n",
        "  if step == 1:\n",
        "    fine_tuned_once_model2 = copy.deepcopy(saved_model)\n",
        "  if step == 5:\n",
        "    fine_tuned_five_model2 = copy.deepcopy(saved_model)"
      ],
      "execution_count": null,
      "outputs": []
    },
    {
      "cell_type": "code",
      "metadata": {
        "id": "J2Z7WRUYUIoO",
        "colab_type": "code",
        "colab": {}
      },
      "source": [
        "output = [saved_model(item.unsqueeze(-1)).cpu().detach().numpy() for item in x]\n",
        "output3 = [fine_tuned_model2(item.unsqueeze(-1)).cpu().detach().numpy() for item in x]\n",
        "\n",
        "plt.plot(x.cpu(),output,label=\"Meta-model\")\n",
        "plt.plot(x.cpu(),output3,label=\"Fine-tuned model\")\n",
        "plt.plot(x.cpu(),testing_task2.oracle(x.cpu()),label=\"Oracle\")\n",
        "\n",
        "plt.plot(x_train.cpu(),y_train.cpu(),'ro',label=\"Training Points\")\n",
        "\n",
        "plt.legend(loc=\"upper right\")\n",
        "plt.show()"
      ],
      "execution_count": null,
      "outputs": []
    },
    {
      "cell_type": "markdown",
      "metadata": {
        "id": "mx-m3u3KGEss",
        "colab_type": "text"
      },
      "source": [
        "## Comparison with pre-trained model"
      ]
    },
    {
      "cell_type": "code",
      "metadata": {
        "id": "88dr0W3C69pr",
        "colab_type": "code",
        "colab": {
          "base_uri": "https://localhost:8080/",
          "height": 66,
          "referenced_widgets": [
            "9b34eeb2492b4c71a5490645c0c2f1f3",
            "ac58d780db63433f9166389a815fcaf7",
            "894ccbb1c039459e8611d0bf5f475285",
            "6b4f427d88bb4a47a3af1bdb2fda2a06",
            "eea1b93687d14397b4bf9afd5ac71ab0",
            "348a896afc6647d581663c76573da88f",
            "733f17da159e496aaf4f445aa66f25b8",
            "8058499e261b4c72b864764ac0fdd09f"
          ]
        },
        "outputId": "958ff855-bc63-4a88-a031-08f56fb57782"
      },
      "source": [
        "# Train 500 models on 500 tasks, with large amount of data\n",
        "# Take multi-task parameters as average of parameter vectors\n",
        "\n",
        "num_models = 2\n",
        "criterion = nn.MSELoss(reduction='mean')\n",
        "learning_rate = 0.02\n",
        "num_grad_iter = 100\n",
        "\n",
        "# Generates 500 instances of Models class with an associated task\n",
        "Models = [(Model().to('cuda'), dist.sample_task()) for x in range(num_models)]\n",
        "\n",
        "for model, task in tqdm(Models):\n",
        "\n",
        "  # Sample 100 data\n",
        "  x_train, y_train = task.sample_data(100)\n",
        "  # Initialise Adam optimiser\n",
        "  optimizer = torch.optim.Adam(model.parameters(),lr=learning_rate)\n",
        "\n",
        "  for _ in range(num_grad_iter):\n",
        "    y_pred = model(x_train)\n",
        "    loss = criterion(y_pred, y_train)\n",
        "\n",
        "    optimizer.zero_grad()\n",
        "    loss.backward()\n",
        "    optimizer.step()"
      ],
      "execution_count": null,
      "outputs": [
        {
          "output_type": "display_data",
          "data": {
            "application/vnd.jupyter.widget-view+json": {
              "model_id": "9b34eeb2492b4c71a5490645c0c2f1f3",
              "version_minor": 0,
              "version_major": 2
            },
            "text/plain": [
              "HBox(children=(FloatProgress(value=0.0, max=2.0), HTML(value='')))"
            ]
          },
          "metadata": {
            "tags": []
          }
        },
        {
          "output_type": "stream",
          "text": [
            "\n"
          ],
          "name": "stdout"
        }
      ]
    },
    {
      "cell_type": "code",
      "metadata": {
        "id": "BEIB1DkN939n",
        "colab_type": "code",
        "colab": {}
      },
      "source": [
        "# Average the parameters\n",
        "model1 = Models[0][0]\n",
        "avgModel = model1.state_dict()\n",
        "\n",
        "for model, task in Models:\n",
        "  for key in sdModel1:\n",
        "    tempSD = model.state_dict()\n",
        "    avgModel[key] += tempSD[key]"
      ],
      "execution_count": null,
      "outputs": []
    },
    {
      "cell_type": "code",
      "metadata": {
        "id": "mcG-G8-KJQ1k",
        "colab_type": "code",
        "colab": {}
      },
      "source": [
        "pre_trained_model_copy = copy.deepcopy(pre_trained_model)"
      ],
      "execution_count": null,
      "outputs": []
    },
    {
      "cell_type": "code",
      "metadata": {
        "id": "8N5TEk3IGw9W",
        "colab_type": "code",
        "colab": {
          "base_uri": "https://localhost:8080/",
          "height": 265
        },
        "outputId": "be8405f8-b70d-4c9d-a6dc-fb7f0966dd1e"
      },
      "source": [
        "## Visualise pre-trained model\n",
        "output_pre_trained = [pre_trained_model(item.unsqueeze(-1)).cpu().detach().numpy() for item in x]\n",
        "output_MAML = [saved_model(item.unsqueeze(-1)).cpu().detach().numpy() for item in x]\n",
        "\n",
        "plt.plot(x.cpu(),output_MAML,label=\"MAML\")\n",
        "plt.plot(x.cpu(),output_pre_trained,label=\"Pre-trained Model\")\n",
        "\n",
        "plt.legend(loc=\"upper right\")\n",
        "plt.show()"
      ],
      "execution_count": null,
      "outputs": [
        {
          "output_type": "display_data",
          "data": {
            "image/png": "[encoded data removed]",
            "text/plain": [
              "<Figure size 432x288 with 1 Axes>"
            ]
          },
          "metadata": {
            "tags": [],
            "needs_background": "light"
          }
        }
      ]
    }
  ]
}