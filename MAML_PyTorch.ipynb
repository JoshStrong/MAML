{
  "nbformat": 4,
  "nbformat_minor": 0,
  "metadata": {
    "colab": {
      "name": "MAML_PyTorch.ipynb",
      "provenance": [],
      "toc_visible": true,
      "authorship_tag": "ABX9TyPF28N2gAWmqGES3Z5NPvb8",
      "include_colab_link": true
    },
    "kernelspec": {
      "name": "python3",
      "display_name": "Python 3"
    },
    "accelerator": "GPU",
    "widgets": {
      "application/vnd.jupyter.widget-state+json": {
        "76f6ff3e881a48238f6dc2885664f6ab": {
          "model_module": "@jupyter-widgets/controls",
          "model_name": "HBoxModel",
          "state": {
            "_view_name": "HBoxView",
            "_dom_classes": [],
            "_model_name": "HBoxModel",
            "_view_module": "@jupyter-widgets/controls",
            "_model_module_version": "1.5.0",
            "_view_count": null,
            "_view_module_version": "1.5.0",
            "box_style": "",
            "layout": "IPY_MODEL_bab05d9b048f4cf599c103062b669ed4",
            "_model_module": "@jupyter-widgets/controls",
            "children": [
              "IPY_MODEL_0c480f4f7da14192b413ed5dd4daba64",
              "IPY_MODEL_574b3f7ed8004cf3b0554ecc6daed148"
            ]
          }
        },
        "bab05d9b048f4cf599c103062b669ed4": {
          "model_module": "@jupyter-widgets/base",
          "model_name": "LayoutModel",
          "state": {
            "_view_name": "LayoutView",
            "grid_template_rows": null,
            "right": null,
            "justify_content": null,
            "_view_module": "@jupyter-widgets/base",
            "overflow": null,
            "_model_module_version": "1.2.0",
            "_view_count": null,
            "flex_flow": null,
            "width": null,
            "min_width": null,
            "border": null,
            "align_items": null,
            "bottom": null,
            "_model_module": "@jupyter-widgets/base",
            "top": null,
            "grid_column": null,
            "overflow_y": null,
            "overflow_x": null,
            "grid_auto_flow": null,
            "grid_area": null,
            "grid_template_columns": null,
            "flex": null,
            "_model_name": "LayoutModel",
            "justify_items": null,
            "grid_row": null,
            "max_height": null,
            "align_content": null,
            "visibility": null,
            "align_self": null,
            "height": null,
            "min_height": null,
            "padding": null,
            "grid_auto_rows": null,
            "grid_gap": null,
            "max_width": null,
            "order": null,
            "_view_module_version": "1.2.0",
            "grid_template_areas": null,
            "object_position": null,
            "object_fit": null,
            "grid_auto_columns": null,
            "margin": null,
            "display": null,
            "left": null
          }
        },
        "0c480f4f7da14192b413ed5dd4daba64": {
          "model_module": "@jupyter-widgets/controls",
          "model_name": "FloatProgressModel",
          "state": {
            "_view_name": "ProgressView",
            "style": "IPY_MODEL_002fc855a3c1418fa8617a7dee10cddb",
            "_dom_classes": [],
            "description": "100%",
            "_model_name": "FloatProgressModel",
            "bar_style": "success",
            "max": 100000,
            "_view_module": "@jupyter-widgets/controls",
            "_model_module_version": "1.5.0",
            "value": 100000,
            "_view_count": null,
            "_view_module_version": "1.5.0",
            "orientation": "horizontal",
            "min": 0,
            "description_tooltip": null,
            "_model_module": "@jupyter-widgets/controls",
            "layout": "IPY_MODEL_71bf40310e5d4f02b0b709cf7121a6ad"
          }
        },
        "574b3f7ed8004cf3b0554ecc6daed148": {
          "model_module": "@jupyter-widgets/controls",
          "model_name": "HTMLModel",
          "state": {
            "_view_name": "HTMLView",
            "style": "IPY_MODEL_0992bae6dbff40209de6b438c42396b9",
            "_dom_classes": [],
            "description": "",
            "_model_name": "HTMLModel",
            "placeholder": "​",
            "_view_module": "@jupyter-widgets/controls",
            "_model_module_version": "1.5.0",
            "value": " 100000/100000 [03:05&lt;00:00, 539.72it/s]",
            "_view_count": null,
            "_view_module_version": "1.5.0",
            "description_tooltip": null,
            "_model_module": "@jupyter-widgets/controls",
            "layout": "IPY_MODEL_4db116d1de464d30aca4ccaae94e293d"
          }
        },
        "002fc855a3c1418fa8617a7dee10cddb": {
          "model_module": "@jupyter-widgets/controls",
          "model_name": "ProgressStyleModel",
          "state": {
            "_view_name": "StyleView",
            "_model_name": "ProgressStyleModel",
            "description_width": "initial",
            "_view_module": "@jupyter-widgets/base",
            "_model_module_version": "1.5.0",
            "_view_count": null,
            "_view_module_version": "1.2.0",
            "bar_color": null,
            "_model_module": "@jupyter-widgets/controls"
          }
        },
        "71bf40310e5d4f02b0b709cf7121a6ad": {
          "model_module": "@jupyter-widgets/base",
          "model_name": "LayoutModel",
          "state": {
            "_view_name": "LayoutView",
            "grid_template_rows": null,
            "right": null,
            "justify_content": null,
            "_view_module": "@jupyter-widgets/base",
            "overflow": null,
            "_model_module_version": "1.2.0",
            "_view_count": null,
            "flex_flow": null,
            "width": null,
            "min_width": null,
            "border": null,
            "align_items": null,
            "bottom": null,
            "_model_module": "@jupyter-widgets/base",
            "top": null,
            "grid_column": null,
            "overflow_y": null,
            "overflow_x": null,
            "grid_auto_flow": null,
            "grid_area": null,
            "grid_template_columns": null,
            "flex": null,
            "_model_name": "LayoutModel",
            "justify_items": null,
            "grid_row": null,
            "max_height": null,
            "align_content": null,
            "visibility": null,
            "align_self": null,
            "height": null,
            "min_height": null,
            "padding": null,
            "grid_auto_rows": null,
            "grid_gap": null,
            "max_width": null,
            "order": null,
            "_view_module_version": "1.2.0",
            "grid_template_areas": null,
            "object_position": null,
            "object_fit": null,
            "grid_auto_columns": null,
            "margin": null,
            "display": null,
            "left": null
          }
        },
        "0992bae6dbff40209de6b438c42396b9": {
          "model_module": "@jupyter-widgets/controls",
          "model_name": "DescriptionStyleModel",
          "state": {
            "_view_name": "StyleView",
            "_model_name": "DescriptionStyleModel",
            "description_width": "",
            "_view_module": "@jupyter-widgets/base",
            "_model_module_version": "1.5.0",
            "_view_count": null,
            "_view_module_version": "1.2.0",
            "_model_module": "@jupyter-widgets/controls"
          }
        },
        "4db116d1de464d30aca4ccaae94e293d": {
          "model_module": "@jupyter-widgets/base",
          "model_name": "LayoutModel",
          "state": {
            "_view_name": "LayoutView",
            "grid_template_rows": null,
            "right": null,
            "justify_content": null,
            "_view_module": "@jupyter-widgets/base",
            "overflow": null,
            "_model_module_version": "1.2.0",
            "_view_count": null,
            "flex_flow": null,
            "width": null,
            "min_width": null,
            "border": null,
            "align_items": null,
            "bottom": null,
            "_model_module": "@jupyter-widgets/base",
            "top": null,
            "grid_column": null,
            "overflow_y": null,
            "overflow_x": null,
            "grid_auto_flow": null,
            "grid_area": null,
            "grid_template_columns": null,
            "flex": null,
            "_model_name": "LayoutModel",
            "justify_items": null,
            "grid_row": null,
            "max_height": null,
            "align_content": null,
            "visibility": null,
            "align_self": null,
            "height": null,
            "min_height": null,
            "padding": null,
            "grid_auto_rows": null,
            "grid_gap": null,
            "max_width": null,
            "order": null,
            "_view_module_version": "1.2.0",
            "grid_template_areas": null,
            "object_position": null,
            "object_fit": null,
            "grid_auto_columns": null,
            "margin": null,
            "display": null,
            "left": null
          }
        }
      }
    }
  },
  "cells": [
    {
      "cell_type": "markdown",
      "metadata": {
        "id": "view-in-github",
        "colab_type": "text"
      },
      "source": [
        "<a href=\"https://colab.research.google.com/github/JoshStrong/MAML/blob/master/MAML_PyTorch.ipynb\" target=\"_parent\"><img src=\"https://colab.research.google.com/assets/colab-badge.svg\" alt=\"Open In Colab\"/></a>"
      ]
    },
    {
      "cell_type": "code",
      "metadata": {
        "id": "MUMf-_F-ue3_",
        "colab_type": "code",
        "colab": {
          "base_uri": "https://localhost:8080/",
          "height": 340
        },
        "outputId": "f2f2c8ee-009f-4d4c-f3d8-aae6dec39098"
      },
      "source": [
        "!pip install learn2learn"
      ],
      "execution_count": 1,
      "outputs": [
        {
          "output_type": "stream",
          "text": [
            "Requirement already satisfied: learn2learn in /usr/local/lib/python3.6/dist-packages (0.1.2)\n",
            "Requirement already satisfied: gym>=0.14.0 in /usr/local/lib/python3.6/dist-packages (from learn2learn) (0.17.2)\n",
            "Requirement already satisfied: numpy>=1.15.4 in /usr/local/lib/python3.6/dist-packages (from learn2learn) (1.18.5)\n",
            "Requirement already satisfied: torchvision>=0.3.0 in /usr/local/lib/python3.6/dist-packages (from learn2learn) (0.7.0+cu101)\n",
            "Requirement already satisfied: torch>=1.1.0 in /usr/local/lib/python3.6/dist-packages (from learn2learn) (1.6.0+cu101)\n",
            "Requirement already satisfied: pandas in /usr/local/lib/python3.6/dist-packages (from learn2learn) (1.0.5)\n",
            "Requirement already satisfied: requests in /usr/local/lib/python3.6/dist-packages (from learn2learn) (2.23.0)\n",
            "Requirement already satisfied: scipy in /usr/local/lib/python3.6/dist-packages (from gym>=0.14.0->learn2learn) (1.4.1)\n",
            "Requirement already satisfied: cloudpickle<1.4.0,>=1.2.0 in /usr/local/lib/python3.6/dist-packages (from gym>=0.14.0->learn2learn) (1.3.0)\n",
            "Requirement already satisfied: pyglet<=1.5.0,>=1.4.0 in /usr/local/lib/python3.6/dist-packages (from gym>=0.14.0->learn2learn) (1.5.0)\n",
            "Requirement already satisfied: pillow>=4.1.1 in /usr/local/lib/python3.6/dist-packages (from torchvision>=0.3.0->learn2learn) (7.0.0)\n",
            "Requirement already satisfied: future in /usr/local/lib/python3.6/dist-packages (from torch>=1.1.0->learn2learn) (0.16.0)\n",
            "Requirement already satisfied: python-dateutil>=2.6.1 in /usr/local/lib/python3.6/dist-packages (from pandas->learn2learn) (2.8.1)\n",
            "Requirement already satisfied: pytz>=2017.2 in /usr/local/lib/python3.6/dist-packages (from pandas->learn2learn) (2018.9)\n",
            "Requirement already satisfied: urllib3!=1.25.0,!=1.25.1,<1.26,>=1.21.1 in /usr/local/lib/python3.6/dist-packages (from requests->learn2learn) (1.24.3)\n",
            "Requirement already satisfied: idna<3,>=2.5 in /usr/local/lib/python3.6/dist-packages (from requests->learn2learn) (2.10)\n",
            "Requirement already satisfied: chardet<4,>=3.0.2 in /usr/local/lib/python3.6/dist-packages (from requests->learn2learn) (3.0.4)\n",
            "Requirement already satisfied: certifi>=2017.4.17 in /usr/local/lib/python3.6/dist-packages (from requests->learn2learn) (2020.6.20)\n",
            "Requirement already satisfied: six>=1.5 in /usr/local/lib/python3.6/dist-packages (from python-dateutil>=2.6.1->pandas->learn2learn) (1.15.0)\n"
          ],
          "name": "stdout"
        }
      ]
    },
    {
      "cell_type": "code",
      "metadata": {
        "id": "JZSStCayuOmz",
        "colab_type": "code",
        "colab": {}
      },
      "source": [
        "# import dependencies\n",
        "import torch\n",
        "import torch.nn as nn\n",
        "import torch.nn.functional as F\n",
        "\n",
        "from tqdm.notebook import tqdm\n",
        "\n",
        "import numpy as np\n",
        "import matplotlib.pyplot as plt\n",
        "from scipy.stats import norm\n",
        "import random\n",
        "\n",
        "import copy\n",
        "\n",
        "import learn2learn as l2l"
      ],
      "execution_count": 2,
      "outputs": []
    },
    {
      "cell_type": "code",
      "metadata": {
        "id": "dcFcXQTrjYG7",
        "colab_type": "code",
        "colab": {
          "base_uri": "https://localhost:8080/",
          "height": 35
        },
        "outputId": "067f7839-797b-4079-c741-615b12d5a65d"
      },
      "source": [
        "torch.cuda.get_device_name(0)"
      ],
      "execution_count": 3,
      "outputs": [
        {
          "output_type": "execute_result",
          "data": {
            "application/vnd.google.colaboratory.intrinsic+json": {
              "type": "string"
            },
            "text/plain": [
              "'Tesla T4'"
            ]
          },
          "metadata": {
            "tags": []
          },
          "execution_count": 3
        }
      ]
    },
    {
      "cell_type": "code",
      "metadata": {
        "id": "3AKyDACOwgRJ",
        "colab_type": "code",
        "colab": {}
      },
      "source": [
        "class Model(nn.Module):\n",
        "  def __init__(self):\n",
        "    super(Model, self).__init__()\n",
        "    self.fc1 = nn.Linear(1, 40)\n",
        "    self.fc2 = nn.Linear(40, 40)\n",
        "    self.fc3 = nn.Linear(40, 1)\n",
        "\n",
        "  def forward(self, x):\n",
        "    x = self.fc1(x)\n",
        "    x = F.relu(x)\n",
        "    x = self.fc2(x)\n",
        "    x = F.relu(x)\n",
        "    x = self.fc3(x)\n",
        "    return x"
      ],
      "execution_count": 4,
      "outputs": []
    },
    {
      "cell_type": "code",
      "metadata": {
        "id": "JQ_MHR1Yzfwa",
        "colab_type": "code",
        "colab": {}
      },
      "source": [
        "class Sine_Task_Distribution():\n",
        "  def __init__(self, power_min, power_max, amplitude_min, amplitude_max, phase_min, phase_max, xmin, xmax):\n",
        "    self.power_min = power_min\n",
        "    self.power_max = power_max\n",
        "    self.amplitude_min = amplitude_min\n",
        "    self.amplitude_max = amplitude_max\n",
        "    self.phase_min = phase_min\n",
        "    self.phase_max = phase_max\n",
        "    self.xmin = xmin\n",
        "    self.xmax = xmax\n",
        "\n",
        "  def sample_task(self):\n",
        "    amplitude = np.random.uniform(self.amplitude_min, self.amplitude_max)\n",
        "    power = np.random.randint(self.power_min,self.power_max+1)\n",
        "    phase = np.random.uniform(self.phase_min, self.phase_max)\n",
        "\n",
        "    return Sine_Task(power, amplitude, phase, self.xmin, self.xmax)"
      ],
      "execution_count": 5,
      "outputs": []
    },
    {
      "cell_type": "code",
      "metadata": {
        "id": "5WZcCQgkzUFd",
        "colab_type": "code",
        "colab": {}
      },
      "source": [
        "class Sine_Task():\n",
        "  def __init__(self, power, amplitude, phase, xmin, xmax):\n",
        "    self.power = power\n",
        "    self.phase = phase\n",
        "    self.amplitude = amplitude\n",
        "    self.xmin = xmin\n",
        "    self.xmax = xmax\n",
        "\n",
        "  def oracle(self, x):\n",
        "    \"\"\"\n",
        "    Oracle: returns output of sin function with given amplitude, phase and input x\n",
        "\n",
        "    PARAMETERS:\n",
        "    1. x - input\n",
        "    \"\"\"\n",
        "    return self.amplitude * (x **self.power) * np.sin(self.phase + x)\n",
        "\n",
        "  def sample_data(self, size=1):\n",
        "    \"\"\"\n",
        "      sample_data: sample input/output of given instance of Sine_Task with set variables\n",
        "\n",
        "      PARAMETERS:\n",
        "      1. size - amount of sampled data\n",
        "    \"\"\"\n",
        "    x = torch.rand(size)*(self.xmax-self.xmin) - self.xmax\n",
        "    y = self.oracle(x)\n",
        "    x = x.unsqueeze(1).cuda()\n",
        "    y = y.unsqueeze(1).cuda()\n",
        "\n",
        "    return x, y"
      ],
      "execution_count": 6,
      "outputs": []
    },
    {
      "cell_type": "code",
      "metadata": {
        "id": "Cb-76o2oJpg_",
        "colab_type": "code",
        "colab": {}
      },
      "source": [
        "dist = Sine_Task_Distribution(0,1,0.1,5,0,np.pi,-5,5)"
      ],
      "execution_count": 7,
      "outputs": []
    },
    {
      "cell_type": "markdown",
      "metadata": {
        "id": "lUTKtUvJjkdK",
        "colab_type": "text"
      },
      "source": [
        "The (shortened) MAML algorithm:\n",
        "\n",
        "\n",
        "\n",
        "\n",
        "*   Sample task (or a batch of tasks) $\\mathcal{T}_i$.\n",
        "*   Sample $D_i^{tr}, D_i^{test}$ from sampled task $\\mathcal{T}_i$.\n",
        "*   Inner Loop: Optimise meta-parameters $\\theta$ on task $\\mathcal{T}_i$ to produce task-specific optimal parameters $\\phi_i$: $\\phi_i \\leftarrow \\theta - \\alpha \\nabla_\\theta \\mathcal{L}(\\theta, D_i^{tr})$\n",
        "*   Outer Loop: Update $\\theta$ using stochastic gradient descent:\n",
        "$\\theta \\leftarrow \\theta - \\beta \\nabla_\\theta \\mathcal{L}(\\phi, D_i^{test})$\n",
        "\n",
        "where $\\mathcal{L}(\\cdot, \\cdot)$ is the chosen loss function of the network (MSE for regression & binary cross entropy for classification).\n",
        "\n",
        "\n",
        "\n",
        "Let $U(\\theta, D^{tr}) := \\phi = \\theta - \\alpha \\nabla_\\theta \\mathcal{L}(\\theta, D^{tr})$ denote the update rule used for optimising $\\phi$.\n",
        "\n",
        "\n",
        "\n",
        "The meta-optimisation objective is given as \n",
        "\\begin{align*}\n",
        "    \\underset{\\theta}{\\min}\\,\\,\\mathcal{L}(\\phi, D^{test}) = \\underset{\\theta}{\\min}\\,\\,\\mathcal{L}(U(\\theta, D^{tr}), D^{test}).\n",
        "\\end{align*}\n",
        "We require $\\frac{d}{d\\theta}\\mathcal{L}(\\phi, D^{test})$\n",
        "\\begin{align*}\n",
        "    \\frac{d}{d\\theta}\\mathcal{L}(\\phi, D^{test}) &= \\frac{d}{d\\theta}\\mathcal{L}(U(\\theta, D^{tr}), D^{test})\\\\\n",
        "    &= \\underbrace{\\nabla_{\\Theta}\\mathcal{L}(\\Theta, D^{test})|_{\\Theta=U(\\theta, D^{tr})}}_{(1)} \\underbrace{\\dfrac{d}{d \\theta} U(\\theta, D^{tr})}_{(2)} && (\\text{via chain rule})\n",
        "\\end{align*}\n",
        "\n",
        "(1) is a row vector which can be computed through a single backwards pass of the network, when setting parameters to $\\Theta$ then differentiating loss $\\mathcal{L}$ with respects to $\\Theta$. The hessian matrix (2) is obtained through differentiating the update rule $U(\\theta, D^{tr}) = \\theta - \\alpha \\nabla_\\theta \\mathcal{L}(\\theta, D^{tr})$ with respects to $\\theta$. Fortunately for us, autodiff libraries such as Tensorflow and PyTorch can compute vector hessian products efficiently."
      ]
    },
    {
      "cell_type": "code",
      "metadata": {
        "id": "ufzWFkLQxJEX",
        "colab_type": "code",
        "colab": {}
      },
      "source": [
        "def main():\n",
        "  device = torch.device('cuda')\n",
        "  fast_lr = 0.02\n",
        "  meta_lr = 0.02\n",
        "  num_iterations = 6000\n",
        "  meta_batch_size = 1000\n",
        "  K = 10\n",
        "  adaptation_steps = 1\n",
        "\n",
        "  model = Model()\n",
        "  model.to(device)\n",
        "  maml = l2l.algorithms.MAML(model, lr=fast_lr, first_order=False)\n",
        "  opt = torch.optim.Adam(maml.parameters(), meta_lr)\n",
        "  loss = nn.MSELoss(reduction='mean')\n",
        "  meta_valid_error_arr = []\n",
        "\n",
        "  # 3. Meta-learning\n",
        "  # Outer-loop\n",
        "  for iteration in tqdm(range(num_iterations+1)):\n",
        "    opt.zero_grad()\n",
        "    meta_valid_error = 0.0\n",
        "    for task in range(meta_batch_size):\n",
        "      # Make copy of maml class\n",
        "      learner = maml.clone()\n",
        "\n",
        "      # Sample a batch of training data\n",
        "      task = dist.sample_task()\n",
        "      X_train, y_train = task.sample_data(K)\n",
        "\n",
        "      # Inner-loop\n",
        "      for step in range(adaptation_steps):\n",
        "        train_error = loss(learner(X_train), y_train)\n",
        "        learner.adapt(train_error)\n",
        "\n",
        "      # Sample new data validation data, calculate error\n",
        "      X_valid, y_valid = task.sample_data(K)\n",
        "      valid_error = loss(learner(X_valid),y_valid)\n",
        "\n",
        "      # Backpropagate loss wrt meta-parameters to get parameter gradients\n",
        "      # These accumulate by function, so no need to continuously add\n",
        "      # We opt.zero_grad at each iteration instead\n",
        "      valid_error.backward()\n",
        "\n",
        "      # add evaluation_error\n",
        "      meta_valid_error += valid_error.item()\n",
        "\n",
        "\n",
        "    if iteration % 50 == 0:\n",
        "      print('\\n')\n",
        "      print('Iteration', iteration)\n",
        "      print('Average Meta Valid Error', meta_valid_error / meta_batch_size)\n",
        "      meta_valid_error_arr.append(meta_valid_error / meta_batch_size)\n",
        "\n",
        "    # Average the accumulated gradients and optimize\n",
        "    for p in maml.parameters():\n",
        "      p.grad.data.mul_(1.0 / meta_batch_size)\n",
        "    opt.step() # optimise meta-parameters\n",
        "\n",
        "  return maml"
      ],
      "execution_count": 8,
      "outputs": []
    },
    {
      "cell_type": "code",
      "metadata": {
        "id": "09LkuZLDup4B",
        "colab_type": "code",
        "colab": {}
      },
      "source": [
        "## WARNING: Takes a long time to train\n",
        "maml_model = main()"
      ],
      "execution_count": null,
      "outputs": []
    },
    {
      "cell_type": "code",
      "metadata": {
        "id": "EKl6DSlyGx_u",
        "colab_type": "code",
        "colab": {}
      },
      "source": [
        "# Save the meta-parameters to a file\n",
        "# Need to clip 'module.' from parameter keys in order to reload the model first\n",
        "maml_dict = maml_model.state_dict()\n",
        "prefix = 'module.'\n",
        "n_clip = len(prefix)\n",
        "adapted_dict = {k[n_clip:]: v for k, v in maml_dict.items()\n",
        "                if k.startswith(prefix)}\n",
        "\n",
        "PATH = \"/content/model\"\n",
        "torch.save(adapted_dict, PATH)"
      ],
      "execution_count": null,
      "outputs": []
    },
    {
      "cell_type": "code",
      "metadata": {
        "id": "2SMm9gSARvme",
        "colab_type": "code",
        "colab": {
          "base_uri": "https://localhost:8080/",
          "height": 102
        },
        "outputId": "25b3dbcc-d08f-41f6-a472-7f34a449b10f"
      },
      "source": [
        "# Load MAML parameters\n",
        "PATH = \"/content/model\"\n",
        "saved_model = Model()\n",
        "saved_model.load_state_dict(torch.load(PATH), strict=False)\n",
        "saved_model.to('cuda')"
      ],
      "execution_count": 10,
      "outputs": [
        {
          "output_type": "execute_result",
          "data": {
            "text/plain": [
              "Model(\n",
              "  (fc1): Linear(in_features=1, out_features=40, bias=True)\n",
              "  (fc2): Linear(in_features=40, out_features=40, bias=True)\n",
              "  (fc3): Linear(in_features=40, out_features=1, bias=True)\n",
              ")"
            ]
          },
          "metadata": {
            "tags": []
          },
          "execution_count": 10
        }
      ]
    },
    {
      "cell_type": "code",
      "metadata": {
        "id": "3Kn8-1OpdzFm",
        "colab_type": "code",
        "colab": {
          "base_uri": "https://localhost:8080/",
          "height": 51
        },
        "outputId": "9d84c131-c82a-4c1c-aca0-a0531d4c0fb5"
      },
      "source": [
        "seed=1\n",
        "np.random.seed(seed)\n",
        "\n",
        "testing_task1=dist.sample_task()\n",
        "testing_task2=dist.sample_task()\n",
        "print(\"testing_task1 has power\",testing_task1.power)\n",
        "print(\"testing_task2 has power\",testing_task2.power)"
      ],
      "execution_count": 11,
      "outputs": [
        {
          "output_type": "stream",
          "text": [
            "testing_task1 has power 0\n",
            "testing_task2 has power 1\n"
          ],
          "name": "stdout"
        }
      ]
    },
    {
      "cell_type": "code",
      "metadata": {
        "id": "9S-NSqcZWj_s",
        "colab_type": "code",
        "colab": {}
      },
      "source": [
        "fine_tuned_model1 = copy.deepcopy(saved_model)\n",
        "fine_tuned_model2 = copy.deepcopy(saved_model)"
      ],
      "execution_count": 12,
      "outputs": []
    },
    {
      "cell_type": "code",
      "metadata": {
        "id": "GFD13-dReAfZ",
        "colab_type": "code",
        "colab": {
          "base_uri": "https://localhost:8080/",
          "height": 265
        },
        "outputId": "6c32b18b-3c0b-40fe-d7a8-8032fcac26b2"
      },
      "source": [
        "x = torch.linspace(-5,5).cuda()\n",
        "output = [saved_model(item.unsqueeze(-1)).cpu().detach().numpy() for item in x]\n",
        "\n",
        "plt.plot(x.cpu(),output,label=\"Meta-model\")\n",
        "plt.plot(x.cpu(),testing_task1.oracle(x.cpu()),label=\"Power 1 sampled task\")\n",
        "plt.plot(x.cpu(),testing_task2.oracle(x.cpu()),label=\"Power 2 sampled task\")\n",
        "\n",
        "plt.legend(loc=\"upper right\")\n",
        "plt.show()"
      ],
      "execution_count": 13,
      "outputs": [
        {
          "output_type": "display_data",
          "data": {
            "image/png": "[encoded data removed]",
            "text/plain": [
              "<Figure size 432x288 with 1 Axes>"
            ]
          },
          "metadata": {
            "tags": [],
            "needs_background": "light"
          }
        }
      ]
    },
    {
      "cell_type": "code",
      "metadata": {
        "id": "xo0PZoy1XOXl",
        "colab_type": "code",
        "colab": {}
      },
      "source": [
        "## Fine-tuning\n",
        "\n",
        "# Sample a task\n",
        "\n",
        "#testing_task = dist.sample_task()\n",
        "#print(\"Sample task has amplitude\",testing_task.amplitude,\"and phase\",testing_task.phase)\n",
        "\n",
        "x_train,y_train = testing_task1.sample_data(10)\n",
        "\n",
        "fine_tuning_steps=10\n",
        "criterion = nn.MSELoss(reduction='mean')\n",
        "optimizer = torch.optim.Adam(fine_tuned_model1.parameters(),lr=0.02)\n",
        "\n",
        "for step in range(fine_tuning_steps):\n",
        "  y_pred = fine_tuned_model1(x_train)\n",
        "\n",
        "  loss = criterion(y_pred,y_train)\n",
        "\n",
        "  optimizer.zero_grad()\n",
        "  loss.backward()\n",
        "  optimizer.step()\n",
        "\n",
        "  if step == 1:\n",
        "    fine_tuned_once_model1 = copy.deepcopy(saved_model)\n",
        "  if step == 5:\n",
        "    fine_tuned_five_model1 = copy.deepcopy(saved_model)"
      ],
      "execution_count": 14,
      "outputs": []
    },
    {
      "cell_type": "code",
      "metadata": {
        "id": "MTJZfGlRVoIn",
        "colab_type": "code",
        "colab": {
          "base_uri": "https://localhost:8080/",
          "height": 265
        },
        "outputId": "559026ed-5835-44af-841c-1050a03ff1cd"
      },
      "source": [
        "output = [saved_model(item.unsqueeze(-1)).cpu().detach().numpy() for item in x]\n",
        "#output1 = [fine_tuned_once_model1(item.unsqueeze(-1)).cpu().detach().numpy() for item in x]\n",
        "#output2 = [fine_tuned_five_model1(item.unsqueeze(-1)).cpu().detach().numpy() for item in x]\n",
        "output3 = [fine_tuned_model1(item.unsqueeze(-1)).cpu().detach().numpy() for item in x]\n",
        "\n",
        "plt.plot(x.cpu(),output,label=\"Meta-model\")\n",
        "#plt.plot(x.cpu(),output1,label=\"Fine-tuned once\")\n",
        "#plt.plot(x.cpu(),output2,label=\"Fine-tuned five\")\n",
        "plt.plot(x.cpu(),output3,label=\"Fine-tuned model\")\n",
        "plt.plot(x.cpu(),testing_task1.oracle(x.cpu()),label=\"Oracle\")\n",
        "\n",
        "plt.plot(x_train.cpu(),y_train.cpu(),'ro',label=\"Training Points\")\n",
        "\n",
        "plt.legend(loc=\"upper right\")\n",
        "plt.show()"
      ],
      "execution_count": 15,
      "outputs": [
        {
          "output_type": "display_data",
          "data": {
            "image/png": "[encoded data removed]",
            "text/plain": [
              "<Figure size 432x288 with 1 Axes>"
            ]
          },
          "metadata": {
            "tags": [],
            "needs_background": "light"
          }
        }
      ]
    },
    {
      "cell_type": "code",
      "metadata": {
        "id": "asZG1w4ZOYcK",
        "colab_type": "code",
        "colab": {}
      },
      "source": [
        "## Fine-tuning\n",
        "\n",
        "# Sample a task\n",
        "\n",
        "#testing_task = dist.sample_task()\n",
        "#print(\"Sample task has amplitude\",testing_task.amplitude,\"and phase\",testing_task.phase)\n",
        "\n",
        "x_train,y_train = testing_task2.sample_data(10)\n",
        "\n",
        "fine_tuning_steps=10\n",
        "criterion = nn.MSELoss(reduction='mean')\n",
        "optimizer = torch.optim.Adam(fine_tuned_model2.parameters(),lr=0.02)\n",
        "\n",
        "for step in range(fine_tuning_steps):\n",
        "  y_pred = fine_tuned_model2(x_train)\n",
        "\n",
        "  loss = criterion(y_pred,y_train)\n",
        "\n",
        "  optimizer.zero_grad()\n",
        "  loss.backward()\n",
        "  optimizer.step()\n",
        "\n",
        "  if step == 1:\n",
        "    fine_tuned_once_model2 = copy.deepcopy(saved_model)\n",
        "  if step == 5:\n",
        "    fine_tuned_five_model2 = copy.deepcopy(saved_model)"
      ],
      "execution_count": 16,
      "outputs": []
    },
    {
      "cell_type": "code",
      "metadata": {
        "id": "J2Z7WRUYUIoO",
        "colab_type": "code",
        "colab": {
          "base_uri": "https://localhost:8080/",
          "height": 265
        },
        "outputId": "15e23085-3e8a-4091-953c-8837b2057d37"
      },
      "source": [
        "output = [saved_model(item.unsqueeze(-1)).cpu().detach().numpy() for item in x]\n",
        "#output1 = [fine_tuned_once_model1(item.unsqueeze(-1)).cpu().detach().numpy() for item in x]\n",
        "#output2 = [fine_tuned_five_model1(item.unsqueeze(-1)).cpu().detach().numpy() for item in x]\n",
        "output3 = [fine_tuned_model2(item.unsqueeze(-1)).cpu().detach().numpy() for item in x]\n",
        "\n",
        "plt.plot(x.cpu(),output,label=\"Meta-model\")\n",
        "#plt.plot(x.cpu(),output1,label=\"Fine-tuned once\")\n",
        "#plt.plot(x.cpu(),output2,label=\"Fine-tuned five\")\n",
        "plt.plot(x.cpu(),output3,label=\"Fine-tuned model\")\n",
        "plt.plot(x.cpu(),testing_task2.oracle(x.cpu()),label=\"Oracle\")\n",
        "\n",
        "plt.plot(x_train.cpu(),y_train.cpu(),'ro',label=\"Training Points\")\n",
        "\n",
        "plt.legend(loc=\"upper right\")\n",
        "plt.show()"
      ],
      "execution_count": 17,
      "outputs": [
        {
          "output_type": "display_data",
          "data": {
            "image/png": "[encoded data removed]",
            "text/plain": [
              "<Figure size 432x288 with 1 Axes>"
            ]
          },
          "metadata": {
            "tags": [],
            "needs_background": "light"
          }
        }
      ]
    },
    {
      "cell_type": "markdown",
      "metadata": {
        "id": "mx-m3u3KGEss",
        "colab_type": "text"
      },
      "source": [
        "## Comparison with pre-trained model"
      ]
    },
    {
      "cell_type": "code",
      "metadata": {
        "id": "_To_ivglGO5r",
        "colab_type": "code",
        "colab": {
          "base_uri": "https://localhost:8080/",
          "height": 66,
          "referenced_widgets": [
            "76f6ff3e881a48238f6dc2885664f6ab",
            "bab05d9b048f4cf599c103062b669ed4",
            "0c480f4f7da14192b413ed5dd4daba64",
            "574b3f7ed8004cf3b0554ecc6daed148",
            "002fc855a3c1418fa8617a7dee10cddb",
            "71bf40310e5d4f02b0b709cf7121a6ad",
            "0992bae6dbff40209de6b438c42396b9",
            "4db116d1de464d30aca4ccaae94e293d"
          ]
        },
        "outputId": "bd7f53ac-5d5f-48bf-cc6e-9c6f8904f5cb"
      },
      "source": [
        "## Sample a task\n",
        "## Sample K=10 data points\n",
        "## Optimise\n",
        "\n",
        "num_training_iter = 100000\n",
        "pre_trained_model = Model()\n",
        "pre_trained_model.to('cuda')\n",
        "criterion = nn.MSELoss(reduction='mean')\n",
        "optimizer = torch.optim.Adam(pre_trained_model.parameters(),lr=0.02)\n",
        "\n",
        "for iter in tqdm(range(num_training_iter)):\n",
        "  task = dist.sample_task()\n",
        "  x_train,y_train = task.sample_data(10)\n",
        "  loss = criterion(pre_trained_model(x_train),y_train)\n",
        "\n",
        "  optimizer.zero_grad()\n",
        "  loss.backward()\n",
        "  optimizer.step()"
      ],
      "execution_count": 18,
      "outputs": [
        {
          "output_type": "display_data",
          "data": {
            "application/vnd.jupyter.widget-view+json": {
              "model_id": "76f6ff3e881a48238f6dc2885664f6ab",
              "version_minor": 0,
              "version_major": 2
            },
            "text/plain": [
              "HBox(children=(FloatProgress(value=0.0, max=100000.0), HTML(value='')))"
            ]
          },
          "metadata": {
            "tags": []
          }
        },
        {
          "output_type": "stream",
          "text": [
            "\n"
          ],
          "name": "stdout"
        }
      ]
    },
    {
      "cell_type": "code",
      "metadata": {
        "id": "mcG-G8-KJQ1k",
        "colab_type": "code",
        "colab": {}
      },
      "source": [
        "pre_trained_model_copy = copy.deepcopy(pre_trained_model)"
      ],
      "execution_count": 21,
      "outputs": []
    },
    {
      "cell_type": "code",
      "metadata": {
        "id": "8N5TEk3IGw9W",
        "colab_type": "code",
        "colab": {
          "base_uri": "https://localhost:8080/",
          "height": 265
        },
        "outputId": "be8405f8-b70d-4c9d-a6dc-fb7f0966dd1e"
      },
      "source": [
        "## Visualise pre-trained model\n",
        "output_pre_trained = [pre_trained_model(item.unsqueeze(-1)).cpu().detach().numpy() for item in x]\n",
        "output_MAML = [saved_model(item.unsqueeze(-1)).cpu().detach().numpy() for item in x]\n",
        "\n",
        "plt.plot(x.cpu(),output_MAML,label=\"MAML\")\n",
        "plt.plot(x.cpu(),output_pre_trained,label=\"Pre-trained Model\")\n",
        "\n",
        "plt.legend(loc=\"upper right\")\n",
        "plt.show()"
      ],
      "execution_count": 20,
      "outputs": [
        {
          "output_type": "display_data",
          "data": {
            "image/png": "[encoded data removed]",
            "text/plain": [
              "<Figure size 432x288 with 1 Axes>"
            ]
          },
          "metadata": {
            "tags": [],
            "needs_background": "light"
          }
        }
      ]
    }
  ]
}