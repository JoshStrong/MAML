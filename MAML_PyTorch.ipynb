{
  "nbformat": 4,
  "nbformat_minor": 0,
  "metadata": {
    "colab": {
      "name": "MAML-PyTorch",
      "provenance": [],
      "collapsed_sections": [],
      "authorship_tag": "ABX9TyNN+ZkFKd2Mp3qfuhZWN/ao",
      "include_colab_link": true
    },
    "kernelspec": {
      "name": "python3",
      "display_name": "Python 3"
    },
    "accelerator": "GPU",
    "widgets": {
      "application/vnd.jupyter.widget-state+json": {
        "5d1eeb63daf646eebe425de65faaf2a2": {
          "model_module": "@jupyter-widgets/controls",
          "model_name": "HBoxModel",
          "state": {
            "_view_name": "HBoxView",
            "_dom_classes": [],
            "_model_name": "HBoxModel",
            "_view_module": "@jupyter-widgets/controls",
            "_model_module_version": "1.5.0",
            "_view_count": null,
            "_view_module_version": "1.5.0",
            "box_style": "",
            "layout": "IPY_MODEL_1be7541cefa74bf08ee089e6edc83fe7",
            "_model_module": "@jupyter-widgets/controls",
            "children": [
              "IPY_MODEL_e1d36746cee74cb6bc0a21a5c613dbdc",
              "IPY_MODEL_574c671425624cc8b5bcd5f31223c77a"
            ]
          }
        },
        "1be7541cefa74bf08ee089e6edc83fe7": {
          "model_module": "@jupyter-widgets/base",
          "model_name": "LayoutModel",
          "state": {
            "_view_name": "LayoutView",
            "grid_template_rows": null,
            "right": null,
            "justify_content": null,
            "_view_module": "@jupyter-widgets/base",
            "overflow": null,
            "_model_module_version": "1.2.0",
            "_view_count": null,
            "flex_flow": null,
            "width": null,
            "min_width": null,
            "border": null,
            "align_items": null,
            "bottom": null,
            "_model_module": "@jupyter-widgets/base",
            "top": null,
            "grid_column": null,
            "overflow_y": null,
            "overflow_x": null,
            "grid_auto_flow": null,
            "grid_area": null,
            "grid_template_columns": null,
            "flex": null,
            "_model_name": "LayoutModel",
            "justify_items": null,
            "grid_row": null,
            "max_height": null,
            "align_content": null,
            "visibility": null,
            "align_self": null,
            "height": null,
            "min_height": null,
            "padding": null,
            "grid_auto_rows": null,
            "grid_gap": null,
            "max_width": null,
            "order": null,
            "_view_module_version": "1.2.0",
            "grid_template_areas": null,
            "object_position": null,
            "object_fit": null,
            "grid_auto_columns": null,
            "margin": null,
            "display": null,
            "left": null
          }
        },
        "e1d36746cee74cb6bc0a21a5c613dbdc": {
          "model_module": "@jupyter-widgets/controls",
          "model_name": "FloatProgressModel",
          "state": {
            "_view_name": "ProgressView",
            "style": "IPY_MODEL_d1d42a9ec12c4fd4a87bc2698341ede3",
            "_dom_classes": [],
            "description": "100%",
            "_model_name": "FloatProgressModel",
            "bar_style": "success",
            "max": 1000,
            "_view_module": "@jupyter-widgets/controls",
            "_model_module_version": "1.5.0",
            "value": 1000,
            "_view_count": null,
            "_view_module_version": "1.5.0",
            "orientation": "horizontal",
            "min": 0,
            "description_tooltip": null,
            "_model_module": "@jupyter-widgets/controls",
            "layout": "IPY_MODEL_9c3b0abb795c48e89a2326d61324e951"
          }
        },
        "574c671425624cc8b5bcd5f31223c77a": {
          "model_module": "@jupyter-widgets/controls",
          "model_name": "HTMLModel",
          "state": {
            "_view_name": "HTMLView",
            "style": "IPY_MODEL_b951b2ec311e4a67afe0184514246360",
            "_dom_classes": [],
            "description": "",
            "_model_name": "HTMLModel",
            "placeholder": "​",
            "_view_module": "@jupyter-widgets/controls",
            "_model_module_version": "1.5.0",
            "value": " 1000/1000 [00:04&lt;00:00, 206.07it/s]",
            "_view_count": null,
            "_view_module_version": "1.5.0",
            "description_tooltip": null,
            "_model_module": "@jupyter-widgets/controls",
            "layout": "IPY_MODEL_ee5b32d6d520472fb9d7b17f98c3560b"
          }
        },
        "d1d42a9ec12c4fd4a87bc2698341ede3": {
          "model_module": "@jupyter-widgets/controls",
          "model_name": "ProgressStyleModel",
          "state": {
            "_view_name": "StyleView",
            "_model_name": "ProgressStyleModel",
            "description_width": "initial",
            "_view_module": "@jupyter-widgets/base",
            "_model_module_version": "1.5.0",
            "_view_count": null,
            "_view_module_version": "1.2.0",
            "bar_color": null,
            "_model_module": "@jupyter-widgets/controls"
          }
        },
        "9c3b0abb795c48e89a2326d61324e951": {
          "model_module": "@jupyter-widgets/base",
          "model_name": "LayoutModel",
          "state": {
            "_view_name": "LayoutView",
            "grid_template_rows": null,
            "right": null,
            "justify_content": null,
            "_view_module": "@jupyter-widgets/base",
            "overflow": null,
            "_model_module_version": "1.2.0",
            "_view_count": null,
            "flex_flow": null,
            "width": null,
            "min_width": null,
            "border": null,
            "align_items": null,
            "bottom": null,
            "_model_module": "@jupyter-widgets/base",
            "top": null,
            "grid_column": null,
            "overflow_y": null,
            "overflow_x": null,
            "grid_auto_flow": null,
            "grid_area": null,
            "grid_template_columns": null,
            "flex": null,
            "_model_name": "LayoutModel",
            "justify_items": null,
            "grid_row": null,
            "max_height": null,
            "align_content": null,
            "visibility": null,
            "align_self": null,
            "height": null,
            "min_height": null,
            "padding": null,
            "grid_auto_rows": null,
            "grid_gap": null,
            "max_width": null,
            "order": null,
            "_view_module_version": "1.2.0",
            "grid_template_areas": null,
            "object_position": null,
            "object_fit": null,
            "grid_auto_columns": null,
            "margin": null,
            "display": null,
            "left": null
          }
        },
        "b951b2ec311e4a67afe0184514246360": {
          "model_module": "@jupyter-widgets/controls",
          "model_name": "DescriptionStyleModel",
          "state": {
            "_view_name": "StyleView",
            "_model_name": "DescriptionStyleModel",
            "description_width": "",
            "_view_module": "@jupyter-widgets/base",
            "_model_module_version": "1.5.0",
            "_view_count": null,
            "_view_module_version": "1.2.0",
            "_model_module": "@jupyter-widgets/controls"
          }
        },
        "ee5b32d6d520472fb9d7b17f98c3560b": {
          "model_module": "@jupyter-widgets/base",
          "model_name": "LayoutModel",
          "state": {
            "_view_name": "LayoutView",
            "grid_template_rows": null,
            "right": null,
            "justify_content": null,
            "_view_module": "@jupyter-widgets/base",
            "overflow": null,
            "_model_module_version": "1.2.0",
            "_view_count": null,
            "flex_flow": null,
            "width": null,
            "min_width": null,
            "border": null,
            "align_items": null,
            "bottom": null,
            "_model_module": "@jupyter-widgets/base",
            "top": null,
            "grid_column": null,
            "overflow_y": null,
            "overflow_x": null,
            "grid_auto_flow": null,
            "grid_area": null,
            "grid_template_columns": null,
            "flex": null,
            "_model_name": "LayoutModel",
            "justify_items": null,
            "grid_row": null,
            "max_height": null,
            "align_content": null,
            "visibility": null,
            "align_self": null,
            "height": null,
            "min_height": null,
            "padding": null,
            "grid_auto_rows": null,
            "grid_gap": null,
            "max_width": null,
            "order": null,
            "_view_module_version": "1.2.0",
            "grid_template_areas": null,
            "object_position": null,
            "object_fit": null,
            "grid_auto_columns": null,
            "margin": null,
            "display": null,
            "left": null
          }
        }
      }
    }
  },
  "cells": [
    {
      "cell_type": "markdown",
      "metadata": {
        "id": "view-in-github",
        "colab_type": "text"
      },
      "source": [
        "<a href=\"https://colab.research.google.com/github/JoshStrong/MAML/blob/master/MAML_PyTorch.ipynb\" target=\"_parent\"><img src=\"https://colab.research.google.com/assets/colab-badge.svg\" alt=\"Open In Colab\"/></a>"
      ]
    },
    {
      "cell_type": "markdown",
      "metadata": {
        "id": "1Q3wlQVeC4B5",
        "colab_type": "text"
      },
      "source": [
        "# Model Agnostic Meta Learning (MAML)"
      ]
    },
    {
      "cell_type": "markdown",
      "metadata": {
        "id": "ysxQDVMTDGAW",
        "colab_type": "text"
      },
      "source": [
        "Make use of google colabs GPU for faster training via PyTorch. \\\\\n",
        "Original MAML paper: https://arxiv.org/pdf/1703.03400.pdf"
      ]
    },
    {
      "cell_type": "code",
      "metadata": {
        "id": "iLX8j6wtCxBR",
        "colab_type": "code",
        "colab": {}
      },
      "source": [
        "# import dependencies\n",
        "import torch\n",
        "import torch.nn as nn\n",
        "import torch.nn.functional as F\n",
        "\n",
        "from tqdm import tqdm_notebook as tqdm\n",
        "\n",
        "import numpy as np\n",
        "\n",
        "import copy\n",
        "import matplotlib.pyplot as plt\n",
        "\n",
        "import random"
      ],
      "execution_count": 74,
      "outputs": []
    },
    {
      "cell_type": "code",
      "metadata": {
        "id": "ih8cWtXJv4Ca",
        "colab_type": "code",
        "colab": {
          "base_uri": "https://localhost:8080/",
          "height": 35
        },
        "outputId": "7c480a42-60c4-4549-dfc4-e7ec4c49d939"
      },
      "source": [
        "torch.cuda.get_device_name(0)"
      ],
      "execution_count": 9,
      "outputs": [
        {
          "output_type": "execute_result",
          "data": {
            "application/vnd.google.colaboratory.intrinsic+json": {
              "type": "string"
            },
            "text/plain": [
              "'Tesla K80'"
            ]
          },
          "metadata": {
            "tags": []
          },
          "execution_count": 9
        }
      ]
    },
    {
      "cell_type": "code",
      "metadata": {
        "id": "cgI4DX7f8l4H",
        "colab_type": "code",
        "colab": {
          "base_uri": "https://localhost:8080/",
          "height": 102
        },
        "outputId": "43e36439-6bd3-4675-d1eb-a054389bf1b3"
      },
      "source": [
        "!pip install torchviz\n",
        "from graphviz import Digraph\n",
        "\n",
        "# make_dot was moved to https://github.com/szagoruyko/pytorchviz\n",
        "from torchviz import make_dot"
      ],
      "execution_count": 11,
      "outputs": [
        {
          "output_type": "stream",
          "text": [
            "Requirement already satisfied: torchviz in /usr/local/lib/python3.6/dist-packages (0.0.1)\n",
            "Requirement already satisfied: graphviz in /usr/local/lib/python3.6/dist-packages (from torchviz) (0.10.1)\n",
            "Requirement already satisfied: torch in /usr/local/lib/python3.6/dist-packages (from torchviz) (1.5.1+cu101)\n",
            "Requirement already satisfied: future in /usr/local/lib/python3.6/dist-packages (from torch->torchviz) (0.16.0)\n",
            "Requirement already satisfied: numpy in /usr/local/lib/python3.6/dist-packages (from torch->torchviz) (1.18.5)\n"
          ],
          "name": "stdout"
        }
      ]
    },
    {
      "cell_type": "markdown",
      "metadata": {
        "id": "vmkawvM0xPDl",
        "colab_type": "text"
      },
      "source": [
        "# Implementing the original regression tasks"
      ]
    },
    {
      "cell_type": "code",
      "metadata": {
        "id": "77mDMCzkDYdN",
        "colab_type": "code",
        "colab": {}
      },
      "source": [
        "class Sine_Task():\n",
        "  def __init__(self, amplitude, phase, xmin, xmax):\n",
        "    self.amplitude = amplitude\n",
        "    self.phase = phase\n",
        "    self.xmin = xmin\n",
        "    self.xmax = xmax\n",
        "\n",
        "  def oracle(self, x):\n",
        "    \"\"\"\n",
        "    Oracle: returns output of sin function with given amplitude, phase and input x\n",
        "\n",
        "    PARAMETERS:\n",
        "    1. x - input\n",
        "    \"\"\"\n",
        "    return self.amplitude * np.sin(self.phase + x)\n",
        "\n",
        "  def sample_data(self, size=1):\n",
        "    \"\"\"\n",
        "      sample_data: sample input/output of given instance of Sine_Task with set variables\n",
        "\n",
        "      PARAMETERS:\n",
        "      1. size - amount of sampled data\n",
        "    \"\"\"\n",
        "    x = torch.rand(size)*(self.xmax-self.xmin) - self.xmax\n",
        "    y = self.oracle(x)\n",
        "    x = x.unsqueeze(1).cuda()\n",
        "    y = y.unsqueeze(1).cuda()\n",
        "\n",
        "    return x, y"
      ],
      "execution_count": 12,
      "outputs": []
    },
    {
      "cell_type": "code",
      "metadata": {
        "id": "8MWPJLo_Gkmm",
        "colab_type": "code",
        "colab": {}
      },
      "source": [
        "class Sine_Task_Distribution():\n",
        "  def __init__(self, amplitude_min, amplitude_max, phase_min, phase_max, xmin, xmax):\n",
        "    self.amplitude_min = amplitude_min\n",
        "    self.amplitude_max = amplitude_max\n",
        "    self.phase_min = phase_min\n",
        "    self.phase_max = phase_max\n",
        "    self.xmin = xmin\n",
        "    self.xmax = xmax\n",
        "\n",
        "  def sample_task(self):\n",
        "    # Sample a random amplitude from the range []\n",
        "    amplitude = np.random.uniform(self.amplitude_min, self.amplitude_max)\n",
        "    phase = np.random.uniform(self.phase_min, self.phase_max)\n",
        "\n",
        "    return Sine_Task(amplitude, phase, self.xmin, self.xmax)"
      ],
      "execution_count": 13,
      "outputs": []
    },
    {
      "cell_type": "code",
      "metadata": {
        "id": "F59HhGTgIvG1",
        "colab_type": "code",
        "colab": {}
      },
      "source": [
        "class Regressor(nn.Module):\n",
        "  def __init__(self):\n",
        "    super(Regressor, self).__init__()\n",
        "    self.fc1 = nn.Linear(1, 40)\n",
        "    self.fc2 = nn.Linear(40, 40)\n",
        "    self.fc3 = nn.Linear(40, 1)\n",
        "\n",
        "  def forward(self, x):\n",
        "    x = self.fc1(x)\n",
        "    x = F.relu(x)\n",
        "    x = self.fc2(x)\n",
        "    x = F.relu(x)\n",
        "    x = self.fc3(x)\n",
        "    return x"
      ],
      "execution_count": 14,
      "outputs": []
    },
    {
      "cell_type": "markdown",
      "metadata": {
        "id": "AvUZdnfOwG0b",
        "colab_type": "text"
      },
      "source": [
        "The (shortened) MAML algorithm:\n",
        "\n",
        "\n",
        "\n",
        "\n",
        "*   Sample task (or a batch of tasks) $\\mathcal{T}_i$.\n",
        "*   Sample $D_i^{tr}, D_i^{test}$ from sampled task $\\mathcal{T}_i$.\n",
        "*   Inner Loop: Optimise meta-parameters $\\theta$ on task $\\mathcal{T}_i$ to produce task-specific optimal parameters $\\phi_i$: $\\phi_i \\leftarrow \\theta - \\alpha \\nabla_\\theta \\mathcal{L}(\\theta, D_i^{tr})$\n",
        "*   Outer Loop: Update $\\theta$ using stochastic gradient descent:\n",
        "$\\theta \\leftarrow \\theta - \\beta \\nabla_\\theta \\mathcal{L}(\\phi, D_i^{test})$\n",
        "\n",
        "where $\\mathcal{L}(\\cdot, \\cdot)$ is the chosen loss function of the network (MSE for regression & binary cross entropy for classification).\n",
        "\n",
        "\n",
        "\n",
        "Let $U(\\theta, D^{tr}) := \\phi = \\theta - \\alpha \\nabla_\\theta \\mathcal{L}(\\theta, D^{tr})$ denote the update rule used for optimising $\\phi$.\n",
        "\n",
        "\n",
        "\n",
        "The meta-optimisation objective is given as \n",
        "\\begin{align*}\n",
        "    \\underset{\\theta}{\\min}\\,\\,\\mathcal{L}(\\phi, D^{test}) = \\underset{\\theta}{\\min}\\,\\,\\mathcal{L}(U(\\theta, D^{tr}), D^{test}).\n",
        "\\end{align*}\n",
        "We require $\\frac{d}{d\\theta}\\mathcal{L}(\\phi, D^{test})$\n",
        "\\begin{align*}\n",
        "    \\frac{d}{d\\theta}\\mathcal{L}(\\phi, D^{test}) &= \\frac{d}{d\\theta}\\mathcal{L}(U(\\theta, D^{tr}), D^{test})\\\\\n",
        "    &= \\underbrace{\\nabla_{\\Theta}\\mathcal{L}(\\Theta, D^{test})|_{\\Theta=U(\\theta, D^{tr})}}_{(1)} \\underbrace{\\dfrac{d}{d \\theta} U(\\theta, D^{tr})}_{(2)} && (\\text{via chain rule})\n",
        "\\end{align*}\n",
        "\n",
        "(1) is a row vector which can be computed through a single backwards pass of the network, when setting parameters to $\\Theta$ then differentiating loss $\\mathcal{L}$ with respects to $\\Theta$. The hessian matrix (2) is obtained through differentiating the update rule $U(\\theta, D^{tr}) = \\theta - \\alpha \\nabla_\\theta \\mathcal{L}(\\theta, D^{tr})$ with respects to $\\theta$. Fortunately, autodiff libraries such as Tensorflow and PyTorch can compute vector hessian products efficiently."
      ]
    },
    {
      "cell_type": "code",
      "metadata": {
        "id": "fuiOCMygZ51V",
        "colab_type": "code",
        "colab": {}
      },
      "source": [
        "class MAML():\n",
        "  def __init__(self, model, tasks, inner_lr, meta_lr, K=10, inner_steps=1, tasks_per_meta_batch=1000, criterion=nn.MSELoss(reduction='mean')):\n",
        "    self.tasks = tasks # Instance of Sine_Task_Distribution\n",
        "    self.model = model # Meta-model\n",
        "    self.criterion = criterion # Usually MSE\n",
        "    self.meta_optimizer = torch.optim.SGD(model.parameters(), meta_lr) # Meta-optimiser for outer loop updates\n",
        "\n",
        "    self.inner_lr = inner_lr\n",
        "    self.meta_lr = meta_lr\n",
        "    self.K = K \n",
        "    self.inner_steps = inner_steps\n",
        "    self.tasks_per_meta_batch = tasks_per_meta_batch # Number of tasks in inner loop\n",
        "\n",
        "  def inner_loop(self, task, adapted_model):\n",
        "    \"\"\"\n",
        "        Computes inner-loop optimisation:\n",
        "        PARAMETERS:\n",
        "        1. task - takes an instantiation of tasks distribution\n",
        "\n",
        "        ALGORITHM:\n",
        "        1. Evaluate gradient of the loss of the task with respects to meta-parameters over K-examples of task\n",
        "        2. Compute adapted parameters with gradient descent\n",
        "      \"\"\"\n",
        "    # Sample K training data from this task for inner-loop training\n",
        "    X_train, y_train = task.sample_data(self.K)\n",
        "\n",
        "    # Perform inner_steps gradient steps (usually 1 to avoid nasty mathematics)\n",
        "    for _ in range(self.inner_steps):\n",
        "  \n",
        "      # Forward pass using meta-parameters\n",
        "      y_pred = adapted_model(X_train)\n",
        "\n",
        "      # Calculate loss\n",
        "      loss = self.criterion(y_pred, y_train)\n",
        "\n",
        "      # Do backwards pass\n",
        "      loss.backward(create_graph=True, retain_graph=True)\n",
        "\n",
        "    return loss\n",
        "    \n",
        "  def outer_loop(self, num_iterations):\n",
        "    \"\"\"\n",
        "      Computes outer-loop optimisation:\n",
        "      PARAMETERS:\n",
        "      1. num_iterations - number of outer-loop gradient descent steps\n",
        "\n",
        "      ALGORITHM:\n",
        "      1. Sample batch of tasks for inner-loop optimisation\n",
        "      2. Compute inner-loop\n",
        "      3. Update meta-parameters using gradient descent\n",
        "\n",
        "    \"\"\"\n",
        "\n",
        "    for iteration in tqdm(range(0, num_iterations)): # Number of meta-updates, 1\n",
        "      \n",
        "      meta_loss = 0 # Sum of task adapated losses\n",
        "\n",
        "      for i in range(self.tasks_per_meta_batch): # Number of tasks per inner loop 1\n",
        "        # Create new instance of the model & copy the meta parameters\n",
        "        adapted_model = Regressor().cuda()\n",
        "        adapted_model.load_state_dict(self.model.state_dict())\n",
        "        \n",
        "        # Generate task from task distribution\n",
        "        task = self.tasks.sample_task()\n",
        "        # Compute task specific loss \n",
        "        meta_loss = self.inner_loop(task, adapted_model)\n",
        "\n",
        "        # Do a manual gradient update\n",
        "        state_dict = adapted_model.state_dict()\n",
        "        for name, param in adapted_model.named_parameters():\n",
        "          state_dict[name] = param - self.inner_lr * param.grad\n",
        "        adapted_model.load_state_dict(state_dict)\n",
        "\n",
        "        # Compute task specific loss with new adapted parameters (including backwards pass)\n",
        "        self.inner_loop(task, adapted_model)\n",
        "\n",
        "        # Optimise the meta-parameters & zero-gradients\n",
        "        self.meta_optimizer.step()\n",
        "        self.meta_optimizer.zero_grad()"
      ],
      "execution_count": 75,
      "outputs": []
    },
    {
      "cell_type": "code",
      "metadata": {
        "id": "cesHnZ9vbIUr",
        "colab_type": "code",
        "colab": {}
      },
      "source": [
        "torch.manual_seed(2)\n",
        "model1 = Regressor().cuda()\n",
        "a = Sine_Task_Distribution(0.1,5,0,np.pi,-5,5)\n",
        "task = a.sample_task()\n",
        "maml = MAML(model1, a, 0.01, 0.01, 10, 1 , 1)"
      ],
      "execution_count": 76,
      "outputs": []
    },
    {
      "cell_type": "code",
      "metadata": {
        "id": "iFJK1hPwbKsZ",
        "colab_type": "code",
        "colab": {
          "base_uri": "https://localhost:8080/",
          "height": 100,
          "referenced_widgets": [
            "5d1eeb63daf646eebe425de65faaf2a2",
            "1be7541cefa74bf08ee089e6edc83fe7",
            "e1d36746cee74cb6bc0a21a5c613dbdc",
            "574c671425624cc8b5bcd5f31223c77a",
            "d1d42a9ec12c4fd4a87bc2698341ede3",
            "9c3b0abb795c48e89a2326d61324e951",
            "b951b2ec311e4a67afe0184514246360",
            "ee5b32d6d520472fb9d7b17f98c3560b"
          ]
        },
        "outputId": "92bf4314-22bb-4d1d-cc3f-82bad5608f26"
      },
      "source": [
        "maml.outer_loop(1000)"
      ],
      "execution_count": 77,
      "outputs": [
        {
          "output_type": "stream",
          "text": [
            "/usr/local/lib/python3.6/dist-packages/ipykernel_launcher.py:54: TqdmDeprecationWarning: This function will be removed in tqdm==5.0.0\n",
            "Please use `tqdm.notebook.tqdm` instead of `tqdm.tqdm_notebook`\n"
          ],
          "name": "stderr"
        },
        {
          "output_type": "display_data",
          "data": {
            "application/vnd.jupyter.widget-view+json": {
              "model_id": "5d1eeb63daf646eebe425de65faaf2a2",
              "version_minor": 0,
              "version_major": 2
            },
            "text/plain": [
              "HBox(children=(FloatProgress(value=0.0, max=1000.0), HTML(value='')))"
            ]
          },
          "metadata": {
            "tags": []
          }
        },
        {
          "output_type": "stream",
          "text": [
            "\n"
          ],
          "name": "stdout"
        }
      ]
    }
  ]
}